{
 "cells": [
  {
   "cell_type": "code",
   "execution_count": 2,
   "id": "559d368f",
   "metadata": {},
   "outputs": [],
   "source": [
    "import sys\n",
    "import os\n",
    "sys.path.append(os.path.join(os.path.expanduser(\"~\"),\"Documents\",\"metabolic_network\",\"metconsin\"))\n",
    "sys.path.append(os.path.join(os.path.expanduser(\"~\"),\"Documents\",\"Data\",\"isolate_data\"))\n",
    "import pandas as pd\n",
    "from pathlib import Path\n",
    "import datetime as dt\n",
    "import pickle\n",
    "import importlib as il\n",
    "import cobra as cb\n",
    "import numpy as np\n",
    "import time\n",
    "\n",
    "import matplotlib.pyplot as plt\n",
    "\n",
    "\n",
    "import surfmod as sm\n",
    "import prep_models as pr\n",
    "import dynamic_simulation as surf\n",
    "\n",
    "from scipy.integrate import solve_ivp\n"
   ]
  },
  {
   "cell_type": "code",
   "execution_count": 141,
   "id": "c2d969bf",
   "metadata": {},
   "outputs": [
    {
     "name": "stdout",
     "output_type": "stream",
     "text": [
      "bc1012  Upper Bounds: Using linear uptake with uniform coefficients = 1.0\n",
      "bc1012  Lower Bounds: Using constant uptake\n",
      "bc1011  Upper Bounds: Using linear uptake with uniform coefficients = 1.0\n",
      "bc1011  Lower Bounds: Using constant uptake\n"
     ]
    }
   ],
   "source": [
    "model_info = pd.read_csv(os.path.join(os.path.expanduser(\"~\"),\"Documents\",\"Data\",\"isolate_data\",\"ModelSeed_info.csv\"))#pd.read_csv(\"bigg_model_file_info.txt\")\n",
    "\n",
    "cbmods = {}\n",
    "\n",
    "desired_models = [\"bc1012\",\"bc1011\"]#[\"E.coli\"]#,\"P.putida\"]#,\"S.cerevisiae\",\"M.tuberculosis\",\n",
    "\n",
    "cobra_models = {}\n",
    "\n",
    "for mod in desired_models:\n",
    "    if any(model_info.Species == mod):\n",
    "        flnm = os.path.join(os.path.expanduser(\"~\"),\"Documents\",\"Data\",\"isolate_data\",model_info.loc[model_info.Species == mod,'File'].iloc[0])\n",
    "        cobra_models[mod] = cb.io.read_sbml_model(flnm)\n",
    "        if not cobra_models[mod].name:\n",
    "            cobra_models[mod].name = mod\n",
    "        mxg = cobra_models[mod].slim_optimize()\n",
    "        min_med = cb.medium.minimal_medium(cobra_models[mod],mxg)#,minimize_components = True)\n",
    "        cobra_models[mod].medium = min_med\n",
    "    else:\n",
    "        print(\"Error: No model of species \" + mod)\n",
    "\n",
    "models,metlist,y0dict = pr.prep_cobrapy_models(cobra_models,ub_funs = \"linearScale\",forceOns=True)\n",
    "\n",
    "y0 = np.array([y0dict[met] for met in metlist])\n"
   ]
  },
  {
   "cell_type": "code",
   "execution_count": 142,
   "id": "e7c6426f",
   "metadata": {},
   "outputs": [],
   "source": [
    "metaabs = {}\n",
    "y0s = {}\n",
    "exrn = {}\n",
    "metabids = {}\n",
    "nametoid = {}\n",
    "exrn_to_exmet = {}\n",
    "exmet_to_exrn = {}\n",
    "for modelkey in cobra_models.keys():\n",
    "    model = cobra_models[modelkey]\n",
    "\n",
    "    #list all reactions the model claims are exchange.\n",
    "    exchng_reactions = [rxn.id for rxn in model.reactions if 'EX_' in rxn.id]#\n",
    "\n",
    "\n",
    "    exchng_metabolite_ids_wrx = [(rx,metab.id) for rx in exchng_reactions for metab in model.reactions.get_by_id(rx).reactants] #\n",
    "    exrxn_to_met = dict(exchng_metabolite_ids_wrx)\n",
    "    met_to_exrxn = dict([(t[1],t[0]) for t in exchng_metabolite_ids_wrx])\n",
    "    exchng_metabolite_ids = [t[1] for t in exchng_metabolite_ids_wrx]\n",
    "\n",
    "\n",
    "    exchng_metabolite_names = [model.metabolites.get_by_id(metab).name for metab in exchng_metabolite_ids]\n",
    "\n",
    "\n",
    "    idtonm = dict(zip(exchng_metabolite_ids,exchng_metabolite_names))\n",
    "    nmtoid = dict(zip(exchng_metabolite_names,exchng_metabolite_ids))\n",
    "\n",
    "    environment = {}\n",
    "    for rxn in model.medium:\n",
    "        for met in model.reactions.get_by_id(rxn).reactants:\n",
    "            environment[met.id] = model.medium[rxn]\n",
    "\n",
    "    y_init = {}\n",
    "    for metabo in exchng_metabolite_names:\n",
    "        if metabo in environment.keys():\n",
    "            y_init[metabo] = environment[metabo]\n",
    "        elif nmtoid[metabo] in environment.keys():\n",
    "            y_init[metabo] = environment[nmtoid[metabo]]\n",
    "        elif any([nmtoid[metabo] in rx.reactants for rx in model.reactions]):\n",
    "            y_init[metabo] = np.mean([environment[rx.id] for rx in model.reactions if metabo in rx.reactants])\n",
    "\n",
    "\n",
    "\n",
    "\n",
    "    metaabs[model.name] = exchng_metabolite_names\n",
    "    metabids[model.name] = exchng_metabolite_ids\n",
    "    y0s[model.name] = y_init\n",
    "    exrn[model.name] = exchng_reactions\n",
    "    nametoid[model.name] = nmtoid\n",
    "    exrn_to_exmet[model.name] = exrxn_to_met\n",
    "    exmet_to_exrn[model.name] = met_to_exrxn\n",
    "\n",
    "\n",
    "\n",
    "\n",
    "\n",
    "##### NOW: we have to reconcile the exchanged metabolites. Swapping order means swapping rows of GammaStar! So\n",
    "### we must agree on an order.\n",
    "masterlist = []\n",
    "for li in metaabs.values():\n",
    "    masterlist += li\n",
    "masterlist = np.unique(masterlist)\n",
    "\n",
    "\n",
    "\n",
    "#### Initial y is not as difficult. I'll take the highest.\n",
    "master_y0 = {}\n",
    "for nm in masterlist:\n",
    "    yyy0 = 0\n",
    "    # ctt = 0\n",
    "    for mod in y0s.values():\n",
    "        if nm in mod.keys():\n",
    "            yyy0 = max(yyy0,mod[nm])\n",
    "    master_y0[nm] = yyy0\n"
   ]
  },
  {
   "cell_type": "code",
   "execution_count": 148,
   "id": "e501dbea",
   "metadata": {},
   "outputs": [],
   "source": [
    "for mod in cobra_models:\n",
    "    med = dict([(exmet_to_exrn[cobra_models[mod].name][nametoid[cobra_models[mod].name][ky]],val) for ky,val in master_y0.items() if ky in nametoid[cobra_models[mod].name].keys()])\n",
    "    cobra_models[mod].medium = med"
   ]
  },
  {
   "cell_type": "code",
   "execution_count": 149,
   "id": "38b213c0",
   "metadata": {},
   "outputs": [],
   "source": [
    "modellist = list(cobra_models.keys())"
   ]
  },
  {
   "cell_type": "code",
   "execution_count": 184,
   "id": "f7994ee3",
   "metadata": {},
   "outputs": [],
   "source": [
    "def cobra_sys(t,s,models,modlist,metlist,nmtoid,exmtoexr):\n",
    "    x = s[:len(models)]\n",
    "    y = s[len(models):]\n",
    "    dxdt = np.zeros_like(x)\n",
    "    dydt = np.zeros_like(y)\n",
    "    for i in range(len(modlist)):\n",
    "        med = dict([(exmtoexr[modlist[i]][nmtoid[modlist[i]][metlist[k]]],y[k]) for k in range(len(y)) if metlist[k] in nametoid[modlist[i]].keys()])\n",
    "        models[modlist[i]].medium = med\n",
    "        opt = models[modlist[i]].optimize()\n",
    "        try:\n",
    "            dxdt[i] = x[i]*opt.objective_value\n",
    "            for j in range(len(metlist)):\n",
    "                if metlist[j] in nametoid[modlist[i]].keys():\n",
    "                    dydt[j] += x[i]*opt.fluxes[exmtoexr[modlist[i]][nmtoid[modlist[i]][metlist[j]]]]\n",
    "        except:\n",
    "            dxdt[i] = 0\n",
    "    return np.concatenate([dxdt,dydt])\n",
    "    "
   ]
  },
  {
   "cell_type": "code",
   "execution_count": 185,
   "id": "d2cb6540",
   "metadata": {},
   "outputs": [],
   "source": [
    "ivpsolve = solve_ivp(cobra_sys, (0,1),np.concatenate([[1],y0]),args = (cobra_models,modellist,masterlist,nametoid,exmet_to_exrn))"
   ]
  },
  {
   "cell_type": "code",
   "execution_count": 186,
   "id": "61ec8ae1",
   "metadata": {},
   "outputs": [
    {
     "data": {
      "text/plain": [
       "[<matplotlib.lines.Line2D at 0x7fc906762df0>]"
      ]
     },
     "execution_count": 186,
     "metadata": {},
     "output_type": "execute_result"
    },
    {
     "data": {
      "image/png": "[encoded data removed]",
      "text/plain": [
       "<Figure size 432x288 with 1 Axes>"
      ]
     },
     "metadata": {
      "needs_background": "light"
     },
     "output_type": "display_data"
    }
   ],
   "source": [
    "plt.plot(ivpsolve.t,ivpsolve.y[1])"
   ]
  },
  {
   "cell_type": "code",
   "execution_count": 188,
   "id": "3d030935",
   "metadata": {},
   "outputs": [
    {
     "data": {
      "text/plain": [
       "array([7.06019001, 7.06019001, 7.06019001, 7.06019001, 7.06019001,\n",
       "       7.06019001, 7.06019001, 7.06019001])"
      ]
     },
     "execution_count": 188,
     "metadata": {},
     "output_type": "execute_result"
    }
   ],
   "source": [
    "ivpsolve.y[1]"
   ]
  },
  {
   "cell_type": "code",
   "execution_count": null,
   "id": "a5eff7e3",
   "metadata": {},
   "outputs": [],
   "source": []
  }
 ],
 "metadata": {
  "kernelspec": {
   "display_name": "Python 3",
   "language": "python",
   "name": "python3"
  },
  "language_info": {
   "codemirror_mode": {
    "name": "ipython",
    "version": 3
   },
   "file_extension": ".py",
   "mimetype": "text/x-python",
   "name": "python",
   "nbconvert_exporter": "python",
   "pygments_lexer": "ipython3",
   "version": "3.8.8"
  }
 },
 "nbformat": 4,
 "nbformat_minor": 5
}
