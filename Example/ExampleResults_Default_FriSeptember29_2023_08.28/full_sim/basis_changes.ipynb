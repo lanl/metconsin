{
 "cells": [
  {
   "cell_type": "code",
   "execution_count": 12,
   "id": "b34b7c9b",
   "metadata": {},
   "outputs": [],
   "source": [
    "import json\n",
    "import numpy as np\n",
    "import pandas as pd\n",
    "import os\n",
    "import cobra as cb\n",
    "import pandas as pd"
   ]
  },
  {
   "cell_type": "code",
   "execution_count": 3,
   "id": "e111f075",
   "metadata": {},
   "outputs": [
    {
     "data": {
      "text/plain": [
       "['Microbes.tsv',\n",
       " 'BasisChangeCauses.json',\n",
       " 'InternalBasisDifferences.json',\n",
       " 'Microbes.png',\n",
       " 'Untitled.ipynb',\n",
       " 'SpeciesNetworks',\n",
       " 'SpcMetNetworks',\n",
       " 'Metabolites.png',\n",
       " 'InternalFluxes',\n",
       " 'Metabolites.tsv',\n",
       " '.jovianrc',\n",
       " '.ipynb_checkpoints',\n",
       " 'ExchangeFluxes',\n",
       " 'BasisTimes.tsv',\n",
       " 'MetaboliteNetworks']"
      ]
     },
     "execution_count": 3,
     "metadata": {},
     "output_type": "execute_result"
    }
   ],
   "source": [
    "os.listdir()"
   ]
  },
  {
   "cell_type": "code",
   "execution_count": 4,
   "id": "8145a5f6",
   "metadata": {},
   "outputs": [],
   "source": [
    "with open('BasisChangeCauses.json') as fl:\n",
    "    basis_causes = json.load(fl)"
   ]
  },
  {
   "cell_type": "code",
   "execution_count": 5,
   "id": "d13af7e5",
   "metadata": {},
   "outputs": [],
   "source": [
    "with open(\"InternalBasisDifferences.json\") as fl:\n",
    "    basis_diffs = json.load(fl)"
   ]
  },
  {
   "cell_type": "code",
   "execution_count": 6,
   "id": "76c3a6d8",
   "metadata": {},
   "outputs": [
    {
     "data": {
      "text/plain": [
       "{'0.22681007758802532': {'bc1012': {'Internal Flux Below 0': [],\n",
       "   'Constraint Violated': ['D-Glucose_e0 exchange upper bound']}},\n",
       " '0.23234467922538346': {'bc1012': {'Internal Flux Below 0': ['rxn10122_c0'],\n",
       "   'Constraint Violated': []}},\n",
       " '0.42022996887632025': {'bc1011': {'Internal Flux Below 0': [],\n",
       "   'Constraint Violated': ['D-Glucose_e0 exchange upper bound']}},\n",
       " '0.42023022984260555': {},\n",
       " '0.42032719447985234': {'bc1002': {'Internal Flux Below 0': [],\n",
       "   'Constraint Violated': ['D-Glucose_e0 exchange upper bound']}},\n",
       " '0.4216631872315654': {},\n",
       " '0.4217290933876869': {},\n",
       " '0.4217521993333771': {'bc1009': {'Internal Flux Below 0': [],\n",
       "   'Constraint Violated': ['D-Glucose_e0 exchange upper bound']}},\n",
       " '0.421766699068233': {},\n",
       " '0.42216857467750885': {'bc1015': {'Internal Flux Below 0': ['rxn14419_c0',\n",
       "    'rxn14418_c0'],\n",
       "   'Constraint Violated': []}},\n",
       " '0.42289541238729833': {},\n",
       " '0.42291066128591037': {},\n",
       " '0.42340968962673986': {},\n",
       " '0.4234939885636084': {'bc1010': {'Internal Flux Below 0': ['rxn08173_c0'],\n",
       "   'Constraint Violated': []}},\n",
       " '0.4235763066203584': {},\n",
       " '0.42357634908135755': {},\n",
       " '0.42420050508673673': {},\n",
       " '1.1763426413012694': {'bc1001': {'Internal Flux Below 0': ['rxn08854_c0'],\n",
       "   'Constraint Violated': []}},\n",
       " '1.1763426413012703': {'bc1001': {'Internal Flux Below 0': ['rxn08854_c0'],\n",
       "   'Constraint Violated': []}}}"
      ]
     },
     "execution_count": 6,
     "metadata": {},
     "output_type": "execute_result"
    }
   ],
   "source": [
    "basis_causes"
   ]
  },
  {
   "cell_type": "code",
   "execution_count": 17,
   "id": "8c5c8bf0",
   "metadata": {},
   "outputs": [
    {
     "name": "stdout",
     "output_type": "stream",
     "text": [
      "Set parameter TokenServer to value \"infrateam.lanl.gov\"\n"
     ]
    }
   ],
   "source": [
    "bc12mod = cb.io.read_sbml_model(os.path.join(os.path.expanduser(\"~\"),\"Documents\",\"metabolic_networks\",\"metconsin\",\"Example\",\"modelseedGems\",'bc1012.gbk_genome.fbamodel.SBML',\"bc1012.gbk_genome.fbamodel.xml\"))"
   ]
  },
  {
   "cell_type": "code",
   "execution_count": 18,
   "id": "0859424e",
   "metadata": {},
   "outputs": [
    {
     "data": {
      "text/html": [
       "\n",
       "        <table>\n",
       "            <tr>\n",
       "                <td><strong>Reaction identifier</strong></td><td>rxn10122_c0</td>\n",
       "            </tr><tr>\n",
       "                <td><strong>Name</strong></td><td>NADH dehydrogenase (ubiquinone-8 & 3.5 protons)_c0</td>\n",
       "            </tr><tr>\n",
       "                <td><strong>Memory address</strong></td>\n",
       "                <td>0x7f89e8ef49d0</td>\n",
       "            </tr><tr>\n",
       "                <td><strong>Stoichiometry</strong></td>\n",
       "                <td>\n",
       "                    <p style='text-align:right'>cpd00004_c0 + 4.5 cpd00067_c0 + cpd15560_c0 --> cpd00003_c0 + 3.5 cpd00067_e0 + cpd15561_c0</p>\n",
       "                    <p style='text-align:right'>NADH_c0 + 4.5 H+_c0 + Ubiquinone-8_c0 --> NAD_c0 + 3.5 H+_e0 + Ubiquinol-8_c0</p>\n",
       "                </td>\n",
       "            </tr><tr>\n",
       "                <td><strong>GPR</strong></td><td></td>\n",
       "            </tr><tr>\n",
       "                <td><strong>Lower bound</strong></td><td>0.0</td>\n",
       "            </tr><tr>\n",
       "                <td><strong>Upper bound</strong></td><td>1000.0</td>\n",
       "            </tr>\n",
       "        </table>\n",
       "        "
      ],
      "text/plain": [
       "<Reaction rxn10122_c0 at 0x7f89e8ef49d0>"
      ]
     },
     "execution_count": 18,
     "metadata": {},
     "output_type": "execute_result"
    }
   ],
   "source": [
    "bc12mod.reactions.get_by_id('rxn10122_c0')"
   ]
  },
  {
   "cell_type": "code",
   "execution_count": 20,
   "id": "f6610f13",
   "metadata": {},
   "outputs": [
    {
     "data": {
      "text/plain": [
       "{'0.22681007758802532': {'Activated': {'Constraints': ['D-Glucose_e0 exchange upper bound'],\n",
       "   'Fluxes': ['rxn08792_c0']},\n",
       "  'Deactivated': {'Constraints': [], 'Fluxes': []}},\n",
       " '0.23234467922538346': {'Activated': {'Constraints': [], 'Fluxes': []},\n",
       "  'Deactivated': {'Constraints': ['Fumarate_e0 exchange upper bound'],\n",
       "   'Fluxes': ['rxn10122_c0']}},\n",
       " '0.42289541238729833': {'Activated': {'Constraints': [],\n",
       "   'Fluxes': ['rxn09272_c0']},\n",
       "  'Deactivated': {'Constraints': [], 'Fluxes': ['rxn08527_c0']}},\n",
       " '0.42291066128591037': {'Activated': {'Constraints': [],\n",
       "   'Fluxes': ['rxn10113_c0']},\n",
       "  'Deactivated': {'Constraints': [], 'Fluxes': ['rxn05654_c0_R']}},\n",
       " '0.42340968962673986': {'Activated': {'Constraints': [],\n",
       "   'Fluxes': ['rxn08287_c0']},\n",
       "  'Deactivated': {'Constraints': [], 'Fluxes': ['rxn14419_c0']}},\n",
       " '0.4235763066203584': {'Activated': {'Constraints': [],\n",
       "   'Fluxes': ['rxn08527_c0_R']},\n",
       "  'Deactivated': {'Constraints': [], 'Fluxes': ['rxn08792_c0']}},\n",
       " '0.42357634908135755': {'Activated': {'Constraints': [], 'Fluxes': []},\n",
       "  'Deactivated': {'Constraints': ['O2_e0 exchange upper bound'],\n",
       "   'Fluxes': ['rxn10113_c0']}}}"
      ]
     },
     "execution_count": 20,
     "metadata": {},
     "output_type": "execute_result"
    }
   ],
   "source": [
    "basis_diffs['bc1012']"
   ]
  },
  {
   "cell_type": "code",
   "execution_count": 21,
   "id": "e73a69e1",
   "metadata": {},
   "outputs": [
    {
     "data": {
      "text/html": [
       "\n",
       "        <table>\n",
       "            <tr>\n",
       "                <td><strong>Reaction identifier</strong></td><td>rxn08792_c0</td>\n",
       "            </tr><tr>\n",
       "                <td><strong>Name</strong></td><td>lactate oxidation_c0</td>\n",
       "            </tr><tr>\n",
       "                <td><strong>Memory address</strong></td>\n",
       "                <td>0x7f89e8f0caf0</td>\n",
       "            </tr><tr>\n",
       "                <td><strong>Stoichiometry</strong></td>\n",
       "                <td>\n",
       "                    <p style='text-align:right'>cpd00159_c0 + cpd15560_c0 --> cpd00020_c0 + cpd15561_c0</p>\n",
       "                    <p style='text-align:right'>L-Lactate_c0 + Ubiquinone-8_c0 --> Pyruvate_c0 + Ubiquinol-8_c0</p>\n",
       "                </td>\n",
       "            </tr><tr>\n",
       "                <td><strong>GPR</strong></td><td>AOLJGMBJ_04287</td>\n",
       "            </tr><tr>\n",
       "                <td><strong>Lower bound</strong></td><td>0.0</td>\n",
       "            </tr><tr>\n",
       "                <td><strong>Upper bound</strong></td><td>1000.0</td>\n",
       "            </tr>\n",
       "        </table>\n",
       "        "
      ],
      "text/plain": [
       "<Reaction rxn08792_c0 at 0x7f89e8f0caf0>"
      ]
     },
     "execution_count": 21,
     "metadata": {},
     "output_type": "execute_result"
    }
   ],
   "source": [
    "bc12mod.reactions.get_by_id('rxn08792_c0')"
   ]
  },
  {
   "cell_type": "code",
   "execution_count": 30,
   "id": "915b1430",
   "metadata": {
    "scrolled": true
   },
   "outputs": [
    {
     "data": {
      "text/plain": [
       "['SpcMetNetworksNodesCombined.tsv',\n",
       " 'SpcMetNetworksEdgesSummaryCombined.tsv',\n",
       " 'SpcMetNetworksEdgesCombined.tsv']"
      ]
     },
     "execution_count": 30,
     "metadata": {},
     "output_type": "execute_result"
    }
   ],
   "source": [
    "os.listdir(os.path.join('SpcMetNetworks',\"Combined\"))"
   ]
  },
  {
   "cell_type": "code",
   "execution_count": 32,
   "id": "a61cd8f2",
   "metadata": {},
   "outputs": [],
   "source": [
    "network_diff = pd.read_csv(os.path.join('SpcMetNetworks','Difference','SpcMetNetworksEdgesSummaryDifference.tsv'),sep='\\t',index_col = 0)"
   ]
  },
  {
   "cell_type": "code",
   "execution_count": 33,
   "id": "16c07859",
   "metadata": {},
   "outputs": [],
   "source": [
    "network_comb = pd.read_csv(os.path.join('SpcMetNetworks','Combined','SpcMetNetworksEdgesSummaryCombined.tsv'),sep='\\t',index_col = 0)"
   ]
  },
  {
   "cell_type": "code",
   "execution_count": 37,
   "id": "70e979bd",
   "metadata": {},
   "outputs": [],
   "source": [
    "network_comb_num = network_comb[[col for col in network_comb.columns if col not in [\"Source\",\"Target\"]]]"
   ]
  },
  {
   "cell_type": "code",
   "execution_count": 52,
   "id": "76a73bcb",
   "metadata": {},
   "outputs": [],
   "source": [
    "def make_diff_df(df):\n",
    "\n",
    "    '''\n",
    "    Makes the ``Difference`` networks table.\n",
    "\n",
    "    :param df: DataFrame indexed by edges in the network set, with a column for each time interval\n",
    "    :type df: pd.DataFrame\n",
    "\n",
    "    :return: DataFrame indexed by edges in the network set, with a column for each transition. Values are old network edge weight minus new.\n",
    "    :rtype: pd.DataFrame\n",
    "    \n",
    "    '''\n",
    "\n",
    "    ddf = pd.DataFrame(index = df.index)\n",
    "    for i in range(df.shape[1]-1):\n",
    "        c1 = df.columns[i]\n",
    "        c2 = df.columns[i+1]\n",
    "        col = c1.split(\"-\")[1]\n",
    "\n",
    "        ddf[col] = df[c1]-df[c2]\n",
    "\n",
    "    ddf[\"Source\"] = [i.split(\"##\")[0] for i in ddf.index]\n",
    "    ddf[\"Target\"] = [i.split(\"##\")[1] for i in ddf.index]\n",
    "    return ddf"
   ]
  },
  {
   "cell_type": "code",
   "execution_count": 54,
   "id": "2a963785",
   "metadata": {},
   "outputs": [],
   "source": [
    "diffdf = make_diff_df(network_comb_num)"
   ]
  },
  {
   "cell_type": "code",
   "execution_count": 55,
   "id": "baf13761",
   "metadata": {},
   "outputs": [
    {
     "data": {
      "text/plain": [
       "Index(['0.2268', '0.4202', '0.4203', '0.4217', '0.4218', '0.4222', '0.4229',\n",
       "       '0.4234', '0.4235', '0.4236', '1.1763', 'Source', 'Target'],\n",
       "      dtype='object')"
      ]
     },
     "execution_count": 55,
     "metadata": {},
     "output_type": "execute_result"
    }
   ],
   "source": [
    "diffdf.columns"
   ]
  },
  {
   "cell_type": "code",
   "execution_count": 57,
   "id": "486878af",
   "metadata": {},
   "outputs": [
    {
     "data": {
      "text/plain": [
       "bc1012##L-Leucine##Microbe                               -0.004943\n",
       "bc1012##L-Threonine##Microbe                             -0.002779\n",
       "bc1012##H+##Microbe                                      -0.407939\n",
       "bc1012##Acetate##Microbe                                 -0.398493\n",
       "bc1012##L-Glutamate##Microbe                             -0.003362\n",
       "bc1012##L-Lysine##Microbe                                -0.003758\n",
       "bc1012##L-Tyrosine##Microbe                              -0.001589\n",
       "bc1012##D-Glucose##Microbe                                0.190290\n",
       "O2##bc1012##Metabolite                                    0.109537\n",
       "bc1012##L-Arginine##Microbe                              -0.003248\n",
       "bc1012##GTP##Microbe                                     -0.001783\n",
       "bc1012##H2O##Microbe                                      0.476542\n",
       "bc1012##AMP##Microbe                                     -0.001414\n",
       "bc1012##L-Aspartate##Microbe                             -0.002644\n",
       "bc1012##CMP##Microbe                                     -0.001107\n",
       "bc1012##Glycine##Microbe                                 -0.006602\n",
       "bc1012##Succinate##Microbe                               -0.777977\n",
       "bc1012##L-Proline##Microbe                               -0.002427\n",
       "bc1012##L-Isoleucine##Microbe                            -0.003184\n",
       "bc1012##Fumarate##Microbe                                 0.777977\n",
       "bc1012##L-Serine##Microbe                                -0.002810\n",
       "bc1012##CO2##Microbe                                     -0.380336\n",
       "bc1012##N-Acetyl-D-glucosamine##Microbe                  -0.001169\n",
       "bc1012##L-Glutamine##Microbe                             -0.002811\n",
       "Fumarate##bc1012##Metabolite                              0.033998\n",
       "bc1012##Myristic acid##Microbe                           -0.001647\n",
       "bc1012##L-Histidine##Microbe                             -0.001044\n",
       "bc1012##L-Alanine##Microbe                               -0.005964\n",
       "bc1012##L-Phenylalanine##Microbe                         -0.002034\n",
       "bc1012##UMP##Microbe                                     -0.001233\n",
       "bc1012##L-Methionine##Microbe                            -0.001609\n",
       "bc1012##L-Cysteine##Microbe                              -0.001003\n",
       "bc1012##L-Valine##Microbe                                -0.004638\n",
       "bc1012##L-Asparagine##Microbe                            -0.002644\n",
       "bc1012##1,2-Diacyl-sn-glycerol dioctadecanoyl##Microbe   -0.001640\n",
       "D-Glucose##bc1012##Metabolite                            -0.130369\n",
       "Name: 0.2268, dtype: float64"
      ]
     },
     "execution_count": 57,
     "metadata": {},
     "output_type": "execute_result"
    }
   ],
   "source": [
    "diffdf.loc[diffdf['0.2268'].abs() > 10**-3,'0.2268']"
   ]
  },
  {
   "cell_type": "code",
   "execution_count": 64,
   "id": "a809231e",
   "metadata": {},
   "outputs": [
    {
     "data": {
      "text/plain": [
       "bc1012##Succinate##Microbe      -0.777977\n",
       "bc1012##Fumarate##Microbe        0.777977\n",
       "bc1012##H2O##Microbe             0.476542\n",
       "bc1012##H+##Microbe             -0.407939\n",
       "bc1012##Acetate##Microbe        -0.398493\n",
       "bc1012##CO2##Microbe            -0.380336\n",
       "bc1012##D-Glucose##Microbe       0.190290\n",
       "D-Glucose##bc1012##Metabolite   -0.130369\n",
       "O2##bc1012##Metabolite           0.109537\n",
       "Fumarate##bc1012##Metabolite     0.033998\n",
       "Name: 0.2268, dtype: float64"
      ]
     },
     "execution_count": 64,
     "metadata": {},
     "output_type": "execute_result"
    }
   ],
   "source": [
    "diffdf['0.2268'].loc[diffdf['0.2268'].abs().sort_values(ascending = False).index].head(10)"
   ]
  },
  {
   "cell_type": "code",
   "execution_count": 65,
   "id": "0826eea1",
   "metadata": {},
   "outputs": [
    {
     "data": {
      "text/html": [
       "<div>\n",
       "<style scoped>\n",
       "    .dataframe tbody tr th:only-of-type {\n",
       "        vertical-align: middle;\n",
       "    }\n",
       "\n",
       "    .dataframe tbody tr th {\n",
       "        vertical-align: top;\n",
       "    }\n",
       "\n",
       "    .dataframe thead th {\n",
       "        text-align: right;\n",
       "    }\n",
       "</style>\n",
       "<table border=\"1\" class=\"dataframe\">\n",
       "  <thead>\n",
       "    <tr style=\"text-align: right;\">\n",
       "      <th></th>\n",
       "      <th>0.0000-0.2268</th>\n",
       "      <th>0.2323-0.4202</th>\n",
       "      <th>0.4202-0.4202</th>\n",
       "      <th>0.4202-0.4203</th>\n",
       "      <th>0.4203-0.4217</th>\n",
       "      <th>0.4217-0.4217</th>\n",
       "      <th>0.4217-0.4218</th>\n",
       "      <th>0.4218-0.4222</th>\n",
       "      <th>0.4222-0.4229</th>\n",
       "      <th>0.4229-0.4234</th>\n",
       "      <th>0.4234-0.4235</th>\n",
       "      <th>0.4235-0.4236</th>\n",
       "      <th>0.4242-1.1763</th>\n",
       "      <th>1.1763-2.5000</th>\n",
       "      <th>Source</th>\n",
       "      <th>Target</th>\n",
       "    </tr>\n",
       "  </thead>\n",
       "  <tbody>\n",
       "    <tr>\n",
       "      <th>bc1012##Succinate##Microbe</th>\n",
       "      <td>1.000000</td>\n",
       "      <td>1.777977</td>\n",
       "      <td>1.777977</td>\n",
       "      <td>1.777977</td>\n",
       "      <td>1.777977</td>\n",
       "      <td>1.777977</td>\n",
       "      <td>1.777977</td>\n",
       "      <td>1.777977</td>\n",
       "      <td>1.777977</td>\n",
       "      <td>0.000000</td>\n",
       "      <td>0.000000</td>\n",
       "      <td>0.000000</td>\n",
       "      <td>0.000000</td>\n",
       "      <td>0.000000</td>\n",
       "      <td>bc1012</td>\n",
       "      <td>Succinate</td>\n",
       "    </tr>\n",
       "    <tr>\n",
       "      <th>bc1012##Fumarate##Microbe</th>\n",
       "      <td>-1.000000</td>\n",
       "      <td>-1.777977</td>\n",
       "      <td>-1.777977</td>\n",
       "      <td>-1.777977</td>\n",
       "      <td>-1.777977</td>\n",
       "      <td>-1.777977</td>\n",
       "      <td>-1.777977</td>\n",
       "      <td>-1.777977</td>\n",
       "      <td>-1.777977</td>\n",
       "      <td>0.000000</td>\n",
       "      <td>0.000000</td>\n",
       "      <td>0.000000</td>\n",
       "      <td>0.000000</td>\n",
       "      <td>0.000000</td>\n",
       "      <td>bc1012</td>\n",
       "      <td>Fumarate</td>\n",
       "    </tr>\n",
       "    <tr>\n",
       "      <th>bc1012##H2O##Microbe</th>\n",
       "      <td>1.743445</td>\n",
       "      <td>1.266903</td>\n",
       "      <td>1.266903</td>\n",
       "      <td>1.266903</td>\n",
       "      <td>1.266903</td>\n",
       "      <td>1.266903</td>\n",
       "      <td>1.266903</td>\n",
       "      <td>1.266903</td>\n",
       "      <td>1.266903</td>\n",
       "      <td>11.412337</td>\n",
       "      <td>11.412337</td>\n",
       "      <td>11.412337</td>\n",
       "      <td>3.030734</td>\n",
       "      <td>3.030734</td>\n",
       "      <td>bc1012</td>\n",
       "      <td>H2O</td>\n",
       "    </tr>\n",
       "    <tr>\n",
       "      <th>bc1012##H+##Microbe</th>\n",
       "      <td>1.230862</td>\n",
       "      <td>1.638801</td>\n",
       "      <td>1.638801</td>\n",
       "      <td>1.638801</td>\n",
       "      <td>1.638801</td>\n",
       "      <td>1.638801</td>\n",
       "      <td>1.638801</td>\n",
       "      <td>1.638801</td>\n",
       "      <td>1.638801</td>\n",
       "      <td>-1.253705</td>\n",
       "      <td>-1.253705</td>\n",
       "      <td>-1.253705</td>\n",
       "      <td>1.643691</td>\n",
       "      <td>1.643691</td>\n",
       "      <td>bc1012</td>\n",
       "      <td>H+</td>\n",
       "    </tr>\n",
       "    <tr>\n",
       "      <th>bc1012##Acetate##Microbe</th>\n",
       "      <td>1.365017</td>\n",
       "      <td>1.763510</td>\n",
       "      <td>1.763510</td>\n",
       "      <td>1.763510</td>\n",
       "      <td>1.763510</td>\n",
       "      <td>1.763510</td>\n",
       "      <td>1.763510</td>\n",
       "      <td>1.763510</td>\n",
       "      <td>1.763510</td>\n",
       "      <td>-0.130316</td>\n",
       "      <td>-0.130316</td>\n",
       "      <td>-0.130316</td>\n",
       "      <td>1.766712</td>\n",
       "      <td>1.766712</td>\n",
       "      <td>bc1012</td>\n",
       "      <td>Acetate</td>\n",
       "    </tr>\n",
       "    <tr>\n",
       "      <th>bc1012##CO2##Microbe</th>\n",
       "      <td>1.622887</td>\n",
       "      <td>2.003222</td>\n",
       "      <td>2.003222</td>\n",
       "      <td>2.003222</td>\n",
       "      <td>2.003222</td>\n",
       "      <td>2.003222</td>\n",
       "      <td>2.003222</td>\n",
       "      <td>2.003222</td>\n",
       "      <td>2.003222</td>\n",
       "      <td>2.029026</td>\n",
       "      <td>2.029026</td>\n",
       "      <td>2.029026</td>\n",
       "      <td>2.003179</td>\n",
       "      <td>2.003179</td>\n",
       "      <td>bc1012</td>\n",
       "      <td>CO2</td>\n",
       "    </tr>\n",
       "    <tr>\n",
       "      <th>bc1012##D-Glucose##Microbe</th>\n",
       "      <td>-0.809710</td>\n",
       "      <td>-1.000000</td>\n",
       "      <td>-1.000000</td>\n",
       "      <td>-1.000000</td>\n",
       "      <td>-1.000000</td>\n",
       "      <td>-1.000000</td>\n",
       "      <td>-1.000000</td>\n",
       "      <td>-1.000000</td>\n",
       "      <td>-1.000000</td>\n",
       "      <td>-1.000000</td>\n",
       "      <td>-1.000000</td>\n",
       "      <td>-1.000000</td>\n",
       "      <td>-1.000000</td>\n",
       "      <td>-1.000000</td>\n",
       "      <td>bc1012</td>\n",
       "      <td>D-Glucose</td>\n",
       "    </tr>\n",
       "    <tr>\n",
       "      <th>D-Glucose##bc1012##Metabolite</th>\n",
       "      <td>0.000000</td>\n",
       "      <td>0.130369</td>\n",
       "      <td>0.130369</td>\n",
       "      <td>0.130369</td>\n",
       "      <td>0.130369</td>\n",
       "      <td>0.130369</td>\n",
       "      <td>0.130369</td>\n",
       "      <td>0.130369</td>\n",
       "      <td>0.130369</td>\n",
       "      <td>3.131653</td>\n",
       "      <td>3.131653</td>\n",
       "      <td>3.131653</td>\n",
       "      <td>0.171472</td>\n",
       "      <td>0.171472</td>\n",
       "      <td>D-Glucose</td>\n",
       "      <td>bc1012</td>\n",
       "    </tr>\n",
       "    <tr>\n",
       "      <th>O2##bc1012##Metabolite</th>\n",
       "      <td>0.152993</td>\n",
       "      <td>0.043456</td>\n",
       "      <td>0.043456</td>\n",
       "      <td>0.043456</td>\n",
       "      <td>0.043456</td>\n",
       "      <td>0.043456</td>\n",
       "      <td>0.043456</td>\n",
       "      <td>0.043456</td>\n",
       "      <td>0.043456</td>\n",
       "      <td>-1.565826</td>\n",
       "      <td>-1.565826</td>\n",
       "      <td>-1.565826</td>\n",
       "      <td>0.000000</td>\n",
       "      <td>0.000000</td>\n",
       "      <td>O2</td>\n",
       "      <td>bc1012</td>\n",
       "    </tr>\n",
       "    <tr>\n",
       "      <th>Fumarate##bc1012##Metabolite</th>\n",
       "      <td>0.033998</td>\n",
       "      <td>0.000000</td>\n",
       "      <td>0.000000</td>\n",
       "      <td>0.000000</td>\n",
       "      <td>0.000000</td>\n",
       "      <td>0.000000</td>\n",
       "      <td>0.000000</td>\n",
       "      <td>0.000000</td>\n",
       "      <td>0.000000</td>\n",
       "      <td>0.000000</td>\n",
       "      <td>0.000000</td>\n",
       "      <td>0.000000</td>\n",
       "      <td>0.000000</td>\n",
       "      <td>0.000000</td>\n",
       "      <td>Fumarate</td>\n",
       "      <td>bc1012</td>\n",
       "    </tr>\n",
       "  </tbody>\n",
       "</table>\n",
       "</div>"
      ],
      "text/plain": [
       "                               0.0000-0.2268  0.2323-0.4202  0.4202-0.4202  \\\n",
       "bc1012##Succinate##Microbe          1.000000       1.777977       1.777977   \n",
       "bc1012##Fumarate##Microbe          -1.000000      -1.777977      -1.777977   \n",
       "bc1012##H2O##Microbe                1.743445       1.266903       1.266903   \n",
       "bc1012##H+##Microbe                 1.230862       1.638801       1.638801   \n",
       "bc1012##Acetate##Microbe            1.365017       1.763510       1.763510   \n",
       "bc1012##CO2##Microbe                1.622887       2.003222       2.003222   \n",
       "bc1012##D-Glucose##Microbe         -0.809710      -1.000000      -1.000000   \n",
       "D-Glucose##bc1012##Metabolite       0.000000       0.130369       0.130369   \n",
       "O2##bc1012##Metabolite              0.152993       0.043456       0.043456   \n",
       "Fumarate##bc1012##Metabolite        0.033998       0.000000       0.000000   \n",
       "\n",
       "                               0.4202-0.4203  0.4203-0.4217  0.4217-0.4217  \\\n",
       "bc1012##Succinate##Microbe          1.777977       1.777977       1.777977   \n",
       "bc1012##Fumarate##Microbe          -1.777977      -1.777977      -1.777977   \n",
       "bc1012##H2O##Microbe                1.266903       1.266903       1.266903   \n",
       "bc1012##H+##Microbe                 1.638801       1.638801       1.638801   \n",
       "bc1012##Acetate##Microbe            1.763510       1.763510       1.763510   \n",
       "bc1012##CO2##Microbe                2.003222       2.003222       2.003222   \n",
       "bc1012##D-Glucose##Microbe         -1.000000      -1.000000      -1.000000   \n",
       "D-Glucose##bc1012##Metabolite       0.130369       0.130369       0.130369   \n",
       "O2##bc1012##Metabolite              0.043456       0.043456       0.043456   \n",
       "Fumarate##bc1012##Metabolite        0.000000       0.000000       0.000000   \n",
       "\n",
       "                               0.4217-0.4218  0.4218-0.4222  0.4222-0.4229  \\\n",
       "bc1012##Succinate##Microbe          1.777977       1.777977       1.777977   \n",
       "bc1012##Fumarate##Microbe          -1.777977      -1.777977      -1.777977   \n",
       "bc1012##H2O##Microbe                1.266903       1.266903       1.266903   \n",
       "bc1012##H+##Microbe                 1.638801       1.638801       1.638801   \n",
       "bc1012##Acetate##Microbe            1.763510       1.763510       1.763510   \n",
       "bc1012##CO2##Microbe                2.003222       2.003222       2.003222   \n",
       "bc1012##D-Glucose##Microbe         -1.000000      -1.000000      -1.000000   \n",
       "D-Glucose##bc1012##Metabolite       0.130369       0.130369       0.130369   \n",
       "O2##bc1012##Metabolite              0.043456       0.043456       0.043456   \n",
       "Fumarate##bc1012##Metabolite        0.000000       0.000000       0.000000   \n",
       "\n",
       "                               0.4229-0.4234  0.4234-0.4235  0.4235-0.4236  \\\n",
       "bc1012##Succinate##Microbe          0.000000       0.000000       0.000000   \n",
       "bc1012##Fumarate##Microbe           0.000000       0.000000       0.000000   \n",
       "bc1012##H2O##Microbe               11.412337      11.412337      11.412337   \n",
       "bc1012##H+##Microbe                -1.253705      -1.253705      -1.253705   \n",
       "bc1012##Acetate##Microbe           -0.130316      -0.130316      -0.130316   \n",
       "bc1012##CO2##Microbe                2.029026       2.029026       2.029026   \n",
       "bc1012##D-Glucose##Microbe         -1.000000      -1.000000      -1.000000   \n",
       "D-Glucose##bc1012##Metabolite       3.131653       3.131653       3.131653   \n",
       "O2##bc1012##Metabolite             -1.565826      -1.565826      -1.565826   \n",
       "Fumarate##bc1012##Metabolite        0.000000       0.000000       0.000000   \n",
       "\n",
       "                               0.4242-1.1763  1.1763-2.5000     Source  \\\n",
       "bc1012##Succinate##Microbe          0.000000       0.000000     bc1012   \n",
       "bc1012##Fumarate##Microbe           0.000000       0.000000     bc1012   \n",
       "bc1012##H2O##Microbe                3.030734       3.030734     bc1012   \n",
       "bc1012##H+##Microbe                 1.643691       1.643691     bc1012   \n",
       "bc1012##Acetate##Microbe            1.766712       1.766712     bc1012   \n",
       "bc1012##CO2##Microbe                2.003179       2.003179     bc1012   \n",
       "bc1012##D-Glucose##Microbe         -1.000000      -1.000000     bc1012   \n",
       "D-Glucose##bc1012##Metabolite       0.171472       0.171472  D-Glucose   \n",
       "O2##bc1012##Metabolite              0.000000       0.000000         O2   \n",
       "Fumarate##bc1012##Metabolite        0.000000       0.000000   Fumarate   \n",
       "\n",
       "                                  Target  \n",
       "bc1012##Succinate##Microbe     Succinate  \n",
       "bc1012##Fumarate##Microbe       Fumarate  \n",
       "bc1012##H2O##Microbe                 H2O  \n",
       "bc1012##H+##Microbe                   H+  \n",
       "bc1012##Acetate##Microbe         Acetate  \n",
       "bc1012##CO2##Microbe                 CO2  \n",
       "bc1012##D-Glucose##Microbe     D-Glucose  \n",
       "D-Glucose##bc1012##Metabolite     bc1012  \n",
       "O2##bc1012##Metabolite            bc1012  \n",
       "Fumarate##bc1012##Metabolite      bc1012  "
      ]
     },
     "execution_count": 65,
     "metadata": {},
     "output_type": "execute_result"
    }
   ],
   "source": [
    "network_comb.loc[diffdf['0.2268'].abs().sort_values(ascending = False).index].head(10)"
   ]
  },
  {
   "cell_type": "code",
   "execution_count": null,
   "id": "5990fc58",
   "metadata": {},
   "outputs": [],
   "source": []
  }
 ],
 "metadata": {
  "kernelspec": {
   "display_name": "Python 3",
   "language": "python",
   "name": "python3"
  },
  "language_info": {
   "codemirror_mode": {
    "name": "ipython",
    "version": 3
   },
   "file_extension": ".py",
   "mimetype": "text/x-python",
   "name": "python",
   "nbconvert_exporter": "python",
   "pygments_lexer": "ipython3",
   "version": "3.8.8"
  }
 },
 "nbformat": 4,
 "nbformat_minor": 5
}
